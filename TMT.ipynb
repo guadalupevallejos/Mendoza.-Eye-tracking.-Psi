{
print('Hola)
 "cells": [
  {
   "cell_type": "code",
   "execution_count": null,
   "id": "f684e943",
   "metadata": {},
   "outputs": [],
   "source": [
    "import pandas as pd\n",
    "import numpy as np\n",
    "from scipy.stats import f_oneway\n",
    "from scipy import stats\n",
    "import seaborn as sns\n",
    "from scipy.stats import spearmanr\n",
    "import plotly.express as px\n",
    "import plotly.graph_objects as go\n",
    "import matplotlib.pyplot as plt\n",
    "from scipy.stats import percentileofscore"
   ]
  },
  {
   "cell_type": "code",
   "execution_count": null,
   "id": "a9c13b1b",
   "metadata": {
    "scrolled": false
   },
   "outputs": [],
   "source": [
    "data_res = pd.read_csv('datos_cruzados.csv')"
   ]
  },
  {
   "cell_type": "markdown",
   "id": "2a32f68c",
   "metadata": {},
   "source": [
    "Este dataset tiene las variables:\n",
    "\n",
    "TMTA\n",
    "\n",
    "Bloque 1:\n",
    "* sujeto: código de identificación del participante\n",
    "* edad: edad del participante\n",
    "* npoints: número de puntos que se registraron\n",
    "* tiempo: tiempo que tardó en resolver el test\n",
    "* tray: longitud de la trayectoria\n",
    "* vel_med: velocidad media (trayectoria/tiempo)\n",
    "* x_med: mediana de los valores de la componente x\n",
    "* y_med: mediana de los valores de la componente y\n",
    "* vxy_med: mediana de la velocidad punto a punto\n",
    "---------- este primer bloque de variables permite estudiar los resultados globales del test\n",
    "\n",
    "Bloque 2:\n",
    "* dt_35: porcentaje de puntos con frecuencia temporal de más de 35 ms (dt>35)\n",
    "* t_lost: porcentaje de tiempo que fue sampleado a más de 35 ms\n",
    "* x_lost: porcentaje de datos que se fueron de la pantalla en la componente horizontal\n",
    "* y_lost: porcentaje de datos que se fueron de la pantalla en la componente vertical\n",
    "---------- este segundo bloque de variables permite estudiar la calidad de los datos registrados"
   ]
  },
  {
   "cell_type": "markdown",
   "id": "32828c7b",
   "metadata": {},
   "source": [
    "# Elimino a los sujetos con datos vacios en alguna columna"
   ]
  },
  {
   "cell_type": "code",
   "execution_count": null,
   "id": "b542d126",
   "metadata": {},
   "outputs": [],
   "source": [
    "# Crear una lista de los nombres de las columnas que queremos verificar\n",
    "columns = [f\"A {i} Tiempo prom fijaciones\" for i in range(1, 15)] + \\\n",
    "          [f\"A {i} Distancia\" for i in range(1, 16)] + \\\n",
    "          [f\"A {i} Fijaciones\" for i in range(1, 16)] + \\\n",
    "          [f\"{i} Tiempo prom fijaciones\" for i in range(1, 15)] + \\\n",
    "          [f\"{i} Distancia\" for i in range(1, 16)] + \\\n",
    "          [f\"{i} Fijaciones\" for i in range(1, 16)]\n",
    "\n",
    "# Crear una lista de índices de filas que deben eliminarse\n",
    "rows_to_drop = data_res[(data_res[columns] == 0).any(axis=1) | (data_res['tiempo'] == 0)].index\n",
    "\n",
    "# Eliminar filas que deben eliminarse\n",
    "data_res = data_res.drop(rows_to_drop)"
   ]
  },
  {
   "cell_type": "markdown",
   "id": "ec67fcfa",
   "metadata": {},
   "source": [
    "# Creo nuevas variables"
   ]
  },
  {
   "cell_type": "markdown",
   "id": "45f7d1b3",
   "metadata": {},
   "source": [
    "Las nuevas variables son: \n",
    "\n",
    "* A_tiempo: Tiempo de resolución del TMT-A en segundos\n",
    "* B_tiempo: Tiempo de resolución del TMT-B en segundos\n",
    "* A_duracion_fix: Tiempo promedio de c/fijación durante el TMT-A \n",
    "* B_duracion_fix: Tiempo promedio de c/fijación durante el TMT-B\n",
    "* A_VMP(i): Velocidad de procesamiento por item (1/A_tiempo) durante el TMT-A\n",
    "* B_VMP(i): Velocidad de procesamieno por item (1/B_tiempo) durante el TMT-B\n",
    "* A_VMP: Promedio de la velocidad de procesamiento de cada item durante el TMT-A\n",
    "* B_VMP: Promedio de la velocidad de procesamiento de cada item durante el TMT-B\n",
    "* A_VPR: Velocidad de procesamiento regular (15/A_tiempo) \n",
    "* B_VPR: Velocidad de procesamiento regular (15/B_tiempo)\n",
    "* A_Eficiencia: Eficiencia de busqueda (A_Tiempo/TMTA_FixT)\n",
    "* B_Eficiencia: Eficiencia de busqueda (B_Tiempo/TMTB_FixT)"
   ]
  },
  {
   "cell_type": "code",
   "execution_count": null,
   "id": "6e015291",
   "metadata": {},
   "outputs": [],
   "source": [
    "#Transformo A TMT_tT a segundos y creo dos nuevas variables \"A tiempo\" Y \"B tiempo\"\n",
    "data_res.insert(loc=197, column='A_tiempo', value=data_res['TMTA_tT'] / 1000)\n",
    "data_res.insert(loc=198, column='B_tiempo', value=data_res['TMTB_tT'] / 1000)\n",
    "\n",
    "#Transformo TMT_tPromfix y creo dos nuevas variables \"A duracion_fix\" y \"B duracion_fix\"\n",
    "data_res.insert(loc=199, column='A_duracion_fix', value=data_res['TMTA_tPromFix'] / 15)\n",
    "data_res.insert(loc=200, column='B_duracion_fix', value=data_res['TMTB_tPromFix'] / 15)\n",
    "\n",
    "#Transformo Tiempo por item a VMP (1/s) y creo nuevas variables. \n",
    "\n",
    "for i in range(1, 16):\n",
    "    col_name = f'A_VMP{i}'\n",
    "    data_res.insert(loc=i+200, column=col_name, value=1/data_res[f'A {i} Tiempo'])\n",
    "for i in range(1, 16):\n",
    "    col_name = f'B_VMP{i}'\n",
    "    data_res.insert(loc=i+215, column=col_name, value=1/data_res[f'{i} Tiempo'])\n",
    "    \n",
    "#Sumo todas las variables VPMX y divido por 15 para obtener la velocidad de procesamiento media\n",
    "\n",
    "data_res.insert(loc=216, column='B_VMPsum', value=data_res[\"B_VMP1\"]+data_res[\"B_VMP2\"]+data_res[\"B_VMP3\"]+data_res[\"B_VMP4\"]+\n",
    "               data_res[\"B_VMP5\"]+data_res[\"B_VMP6\"]+data_res[\"B_VMP7\"]+data_res[\"B_VMP8\"]+data_res[\"B_VMP9\"]+data_res[\"B_VMP10\"]+\n",
    "               data_res[\"B_VMP11\"]+data_res[\"B_VMP12\"]+data_res[\"B_VMP13\"]+data_res[\"B_VMP14\"]+data_res[\"B_VMP15\"])\n",
    "\n",
    "data_res.insert(loc=217, column='A_VMPsum', value=data_res[\"A_VMP1\"]+data_res[\"A_VMP2\"]+data_res[\"A_VMP3\"]+data_res[\"A_VMP4\"]+\n",
    "               data_res[\"A_VMP5\"]+data_res[\"A_VMP6\"]+data_res[\"A_VMP7\"]+data_res[\"A_VMP8\"]+data_res[\"A_VMP9\"]+data_res[\"A_VMP10\"]+\n",
    "               data_res[\"A_VMP11\"]+data_res[\"A_VMP12\"]+data_res[\"A_VMP13\"]+data_res[\"A_VMP14\"]+data_res[\"A_VMP15\"])\n",
    "\n",
    "data_res.insert(loc=218, column='B_VMP', value=(data_res[\"B_VMPsum\"]/15)/1000)\n",
    "data_res.insert(loc=219, column='A_VMP', value=(data_res[\"A_VMPsum\"]/15/1000))\n",
    "\n",
    "data_res.insert(loc=220, column='A_VPR', value=15/data_res[\"A_tiempo\"])\n",
    "data_res.insert(loc=221, column='B_VPR', value=15/data_res[\"B_tiempo\"])\n",
    "\n",
    "data_res.insert(loc=222, column=\"A_Eficiencia\", value=data_res[\"TMTA_FixT\"]/data_res[\"A_tiempo\"])\n",
    "data_res.insert(loc=223, column=\"B_Eficiencia\", value=data_res[\"TMTB_FixT\"]/data_res[\"B_tiempo\"])\n",
    "\n",
    "# Calcular el percentil de cada dato\n",
    "data_res.insert(loc=224, column=\"per_TMTA_FixT\",value=[percentileofscore(data_res[\"TMTA_FixT\"], d) for d in data_res[\"TMTA_FixT\"]])\n",
    "data_res.insert(loc=225, column=\"per_A_duracion_fix\", value=[percentileofscore(data_res[\"A_duracion_fix\"], d) for d in data_res[\"A_duracion_fix\"]])\n",
    "data_res.insert(loc=226, column=\"per_A_Eficiencia\", value=[percentileofscore(data_res[\"A_Eficiencia\"], d) for d in data_res[\"A_Eficiencia\"]])\n",
    "\n",
    "#Elimino a los sujetos con valor NAN\n",
    "\n",
    "data_res = data_res.dropna(subset=['B_VMP'])\n"
   ]
  },
  {
   "cell_type": "markdown",
   "id": "90d84b77",
   "metadata": {},
   "source": [
    "# Elimino outliers"
   ]
  },
  {
   "cell_type": "code",
   "execution_count": null,
   "id": "2a387b5e",
   "metadata": {},
   "outputs": [],
   "source": [
    "#Cuento a los sujetos que tienen un t_lost mayor de 20\n",
    "t_lost1= data_res[data_res[\"t_lost\"] > 20]\n",
    "t_lost2 = len(t_lost1)\n",
    "print(\"Número de personas con t_lost mayor a 20: \", t_lost2)\n",
    "\n",
    "#Cuento a los niños que tardaron más de 120 segundos\n",
    "tA_120= data_res[data_res[\"A_tiempo\"] > 120]\n",
    "tA__120 = len(tA_120)\n",
    "print(\"Número de personas con tiempo mayor a 120: \", tA__120)\n",
    "\n",
    "#Cuento a los niños que tardaron más de 120 segundos\n",
    "tB_150= data_res[data_res[\"B_tiempo\"] > 170]\n",
    "tB__150 = len(tB_150)\n",
    "print(\"Número de personas con tiempo mayor a 150: \", tB__150)"
   ]
  },
  {
   "cell_type": "code",
   "execution_count": null,
   "id": "567b0dd2",
   "metadata": {},
   "outputs": [],
   "source": [
    "#Elimino a los sujetos que  tienen un t_lost mayor de 10\n",
    "indice1 = data_res[data_res[\"t_lost\"]>20].index\n",
    "data_res = data_res.drop(indice1)\n",
    "\n",
    "#Elimino a los niños que tardaron más de 120 segundos\n",
    "indice2 = data_res[data_res[\"A_tiempo\"]>120].index\n",
    "data_res = data_res.drop(indice2)\n",
    "\n",
    "#Elimino a los niños que tardaron más de 120 segundos\n",
    "indice3 = data_res[data_res[\"B_tiempo\"]>150].index\n",
    "data_res = data_res.drop(indice3)"
   ]
  },
  {
   "cell_type": "markdown",
   "id": "557d7d12",
   "metadata": {},
   "source": [
    "# Agrupo en bloques por escuela"
   ]
  },
  {
   "cell_type": "code",
   "execution_count": null,
   "id": "2a72816a",
   "metadata": {},
   "outputs": [],
   "source": [
    "grouped_data = data_res.groupby('Escuelas')\n",
    "E1, E2, E3, E4 = grouped_data.get_group('E1'), grouped_data.get_group('E2'), grouped_data.get_group('E3'), grouped_data.get_group('E4')"
   ]
  },
  {
   "cell_type": "markdown",
   "id": "71b89a20",
   "metadata": {},
   "source": [
    "Las variables disponibles son: \n",
    "\n",
    "TMT-A:\n",
    "\n",
    " * A_tiempo\n",
    " * TMTA_FixT\n",
    " * A_duracion_fix\n",
    " * A_VMP\n",
    " * A_VPR\n",
    " * A_Eficiencia\n",
    " * vxy_med\n",
    " * vel_med\n",
    "\n",
    "TMT-B:\n",
    "\n",
    " * B_tiempo\n",
    " * TMTB_FixT\n",
    " * B_duracion_fix\n",
    " * B_VMP\n",
    " * B_VPR\n",
    " * B_Eficiencia"
   ]
  },
  {
   "cell_type": "markdown",
   "id": "6e86dc0c",
   "metadata": {},
   "source": [
    "# BOXPLOTS POR ESCUELAS"
   ]
  },
  {
   "cell_type": "code",
   "execution_count": null,
   "id": "8944341d",
   "metadata": {
    "scrolled": false
   },
   "outputs": [],
   "source": [
    "nombre_variable = input(str((\"Ingresa el nombre de la variable a graficar: \")))"
   ]
  },
  {
   "cell_type": "code",
   "execution_count": null,
   "id": "8df90bcf",
   "metadata": {},
   "outputs": [],
   "source": [
    "et = nombre_variable\n",
    "grupos = [E1[nombre_variable], E2[nombre_variable], E3[nombre_variable], E4[nombre_variable]]\n",
    "\n",
    "# Creo una lista con las etiquetas de cada grupo y su tamaño\n",
    "labels = [f\"E1(n={len(E1)})\", f\"E2(n={len(E2)})\", f\"E3(n={len(E3)})\", f\"E4(n={len(E4)})\"]\n",
    "\n",
    "# Creo un grafico de boxplot con los grupos y las etiquetas\n",
    "fig, ax = plt.subplots(figsize=(10, 8))\n",
    "boxplot = ax.boxplot(grupos, labels=labels, positions=[1, 2, 3, 4], showfliers=False)\n",
    "\n",
    "# Modifico la apariencia de la mediana\n",
    "for mediana in boxplot['medians']:\n",
    "    mediana.set_linestyle('-')\n",
    "    mediana.set_linewidth(1)\n",
    "    mediana.set_color('black')\n",
    "\n",
    "# Agrego los datos sin procesar al grafico con desplazamientos aleatorios\n",
    "desplazamientos = [np.random.normal(0, 0.05, size=len(grupo)) for grupo in grupos]\n",
    "for i, grupo in enumerate(grupos):\n",
    "    x = [i+1] * len(grupo)\n",
    "    x_desplazados = x + desplazamientos[i]\n",
    "    ax.scatter(x_desplazados, grupo, s=25, color='gray', alpha=0.5)\n",
    "\n",
    "# Configuro los ejes\n",
    "ax.set_xticks([1, 2, 3, 4])\n",
    "ax.set_xticklabels(labels, fontsize=12)\n",
    "\n",
    "# Agrego titulos y etiquetas a los ejes\n",
    "ax.set_ylabel(et, fontsize=15)\n",
    "\n",
    "# Configuro el grid\n",
    "ax.grid(color='b', linestyle='dotted', linewidth=0.5)\n",
    "\n",
    "# Guardo y muestro el grafico\n",
    "#plt.savefig(f\"{et}.Boxplot por escuela.pdf\", format='pdf')\n",
    "plt.show()\n",
    "plt.close(fig)"
   ]
  },
  {
   "cell_type": "markdown",
   "id": "84a35e58",
   "metadata": {},
   "source": [
    "# Agrupo en bloques por edad"
   ]
  },
  {
   "cell_type": "markdown",
   "id": "ec23d38b",
   "metadata": {},
   "source": [
    "Dos formas diferentes de agrupar las edades"
   ]
  },
  {
   "cell_type": "code",
   "execution_count": null,
   "id": "9c859cbb",
   "metadata": {},
   "outputs": [],
   "source": [
    "# agrupo segun la edad en años redondeada\n",
    "\n",
    "G6 = data_res[data_res['Edad en años redondeada']==6]\n",
    "G7 = data_res[data_res['Edad en años redondeada']==7]\n",
    "G8 = data_res[data_res['Edad en años redondeada']==8]\n",
    "G9 = data_res[data_res['Edad en años redondeada']==9]\n",
    "G10 = data_res[data_res['Edad en años redondeada']==10]\n",
    "G11 = data_res[data_res['Edad en años redondeada']==11]"
   ]
  },
  {
   "cell_type": "code",
   "execution_count": null,
   "id": "a15593f8",
   "metadata": {},
   "outputs": [],
   "source": [
    "# agrupo segun la edad en años\n",
    "\n",
    "#G6 = data_res[(data_res[\"Edad en años\"]>=6) & (data_res['Edad en años']<7)]\n",
    "#G7 = data_res[(data_res[\"Edad en años\"]>=7) & (data_res['Edad en años']<8)]\n",
    "#G8 = data_res[(data_res[\"Edad en años\"]>=8) & (data_res['Edad en años']<9)]\n",
    "#G9 = data_res[(data_res[\"Edad en años\"]>=9) & (data_res['Edad en años']<10)]\n",
    "#G10 = data_res[(data_res[\"Edad en años\"]>=10) & (data_res['Edad en años']<11)]\n",
    "#G11 = data_res[(data_res[\"Edad en años\"]>=11) & (data_res['Edad en años']<12)]"
   ]
  },
  {
   "cell_type": "markdown",
   "id": "6f8b2080",
   "metadata": {},
   "source": [
    "# BOXPLOTS POR EDAD "
   ]
  },
  {
   "cell_type": "markdown",
   "id": "a84347b3",
   "metadata": {},
   "source": [
    "Las variables disponibles son: \n",
    "\n",
    "TMT-A:\n",
    "\n",
    " * A_tiempo\n",
    " * TMTA_FixT\n",
    " * A_duracion_fix\n",
    " * A_VMP\n",
    " * A_VPR\n",
    " * A_Eficiencia\n",
    " * vxy_med\n",
    " * vel_med\n",
    "\n",
    "TMT-B:\n",
    "\n",
    " * B_tiempo\n",
    " * TMTB_FixT\n",
    " * B_duracion_fix\n",
    " * B_VMP\n",
    " * B_VPR\n",
    " * B_Eficiencia"
   ]
  },
  {
   "cell_type": "code",
   "execution_count": null,
   "id": "6c4a7a59",
   "metadata": {
    "scrolled": true
   },
   "outputs": [],
   "source": [
    "nombre_variable = input(str((\"Ingresa el nombre de la variable a graficar: \")))"
   ]
  },
  {
   "cell_type": "code",
   "execution_count": null,
   "id": "0c55fe50",
   "metadata": {},
   "outputs": [],
   "source": [
    "et = nombre_variable\n",
    "grupos = [G6[nombre_variable], G7[nombre_variable], G8[nombre_variable], G9[nombre_variable], G10[nombre_variable], G11[nombre_variable]]\n",
    "\n",
    "# Calculo el rho\n",
    "coeficiente, p_valor = spearmanr(data_res[nombre_variable], data_res[\"Edad en años redondeada\"])\n",
    "print(f\"Coeficiente de correlación de Spearman: {coeficiente}\\nP-valor: {p_valor}\")\n",
    "\n",
    "# Creo una lista con las etiquetas de cada grupo y su tamaño\n",
    "labels = [f\"{i+6} años\\n(n={len(g)})\" for i, g in enumerate(grupos)]\n",
    "\n",
    "# Creo un grafico de boxplot con los grupos y las etiquetas\n",
    "fig, ax = plt.subplots(figsize=(10, 8))\n",
    "boxplot = ax.boxplot(grupos, labels=labels, positions=[1, 2, 3, 4, 5, 6], showfliers=False)\n",
    "\n",
    "# Modifico la apariencia de la mediana\n",
    "for mediana in boxplot['medians']:\n",
    "    mediana.set_linestyle('-')\n",
    "    mediana.set_linewidth(1)\n",
    "    mediana.set_color('black')\n",
    "\n",
    "# Agrego los datos sin procesar al grafico con desplazamientos aleatorios\n",
    "desplazamientos = [np.random.normal(0, 0.05, size=len(grupo)) for grupo in grupos]\n",
    "for i, grupo in enumerate(grupos):\n",
    "    x = [i+1] * len(grupo)\n",
    "    x_desplazados = x + desplazamientos[i]\n",
    "    ax.scatter(x_desplazados, grupo, s=25, color='gray', alpha=0.5)\n",
    "\n",
    "# Configuro los ejes\n",
    "ax.set_xticks([1, 2, 3, 4 ,5 ,6])\n",
    "ax.set_xticklabels(labels, fontsize=12)\n",
    "\n",
    "# Agrego titulos y etiquetas a los ejes\n",
    "ax.set_ylabel(et, fontsize=15)\n",
    "\n",
    "# Agregar el coeficiente de correlación de spearman\n",
    "ax.text(0.77, 0.87, f\"Rho: {coeficiente:.2f}\", transform=ax.transAxes, fontsize=12, verticalalignment='top', weight='bold')\n",
    "\n",
    "# Configuro el grid\n",
    "ax.grid(color='b', linestyle='dotted', linewidth=0.5)\n",
    "\n",
    "# Guardo y muestro el grafico\n",
    "#plt.savefig(f\"{et}.Boxplot por edad.pdf\", format='pdf')\n",
    "plt.show()\n",
    "plt.close(fig)"
   ]
  },
  {
   "cell_type": "markdown",
   "id": "c2251720",
   "metadata": {},
   "source": [
    "# CORRELACIONES "
   ]
  },
  {
   "cell_type": "markdown",
   "id": "e868eb1b",
   "metadata": {},
   "source": [
    "Las variables disponibles son: \n",
    "\n",
    "TMT-A:\n",
    "    \n",
    " * A_tiempo\n",
    " * TMTA_FixT\n",
    " * A_duracion_fix\n",
    " * A_VMP\n",
    " * A_VPR\n",
    " * A_Eficiencia\n",
    " * vxy_med\n",
    " * vel_med\n",
    " \n",
    "TMT-B:\n",
    "\n",
    " * B_tiempo\n",
    " * TMTB_FixT\n",
    " * B_duracion_fix\n",
    " * B_VMP\n",
    " * B_VPR\n",
    " * B_Eficiencia"
   ]
  },
  {
   "cell_type": "code",
   "execution_count": null,
   "id": "06f72d13",
   "metadata": {},
   "outputs": [],
   "source": [
    "variable_x = input(\"Nombre de la variable x: \")\n",
    "variable_y = input(\"Nombre de la variable y: \")"
   ]
  },
  {
   "cell_type": "code",
   "execution_count": null,
   "id": "c5d1535b",
   "metadata": {},
   "outputs": [],
   "source": [
    "vx = data_res[variable_x]\n",
    "etx = variable_x\n",
    "vy = data_res[variable_y]\n",
    "ety = variable_y\n",
    "\n",
    "# Configurar el estilo del gráfico usando el contexto de \"with\"\n",
    "with sns.axes_style('whitegrid'), sns.plotting_context(font_scale=1.2):\n",
    "    \n",
    "    # Calcular coeficiente de correlación y p-valor\n",
    "    coeficiente, p_valor = spearmanr(vx, vy)\n",
    "    print(f\"Coeficiente de correlación de Spearman: {coeficiente}\")\n",
    "    print(f\"P-valor: {p_valor}\")\n",
    "\n",
    "    # Ajustar una línea de regresión\n",
    "    slope, intercept = np.polyfit(vx, vy, 1)\n",
    "\n",
    "    # Crear gráfico de dispersión con línea de regresión\n",
    "    fig, ax = plt.subplots(figsize=(8, 6))\n",
    "    sns.regplot(x=vx, y=vy, line_kws={'color': 'red'})\n",
    "    plt.xlabel(etx, fontsize=15)\n",
    "    plt.ylabel(ety, fontsize=15)\n",
    "    plt.legend(loc='best', fontsize=12)\n",
    "    plt.tight_layout()\n",
    "\n",
    "    # Agregar el coeficiente de correlación de spearman usando f-strings\n",
    "    ax.text(0.10, 0.87, f\"Rho: {coeficiente:.2f}\", transform=ax.transAxes, fontsize=12, verticalalignment='top',weight='bold')\n",
    "\n",
    "    # Guardar el gráfico usando f-strings\n",
    "    #plt.savefig(f\"Relacion entre {variable_x} y {variable_y}.pdf\")\n",
    "\n",
    "    # Mostrar el gráfico y cerrar la figura\n",
    "    plt.show()\n",
    "    plt.close(fig)"
   ]
  },
  {
   "cell_type": "markdown",
   "id": "b4a8b6ae",
   "metadata": {},
   "source": [
    "# ANÁLISIS POR TRAIL "
   ]
  },
  {
   "cell_type": "markdown",
   "id": "e1240f05",
   "metadata": {},
   "source": [
    "Las variables disponibles son: \n",
    "\n",
    "TMT-A: \n",
    "\n",
    " * A_tiempo\n",
    " * TMTA_FixT\n",
    " * A_duracion_fix\n",
    " * A_VMP\n",
    " \n",
    "TMT-B:\n",
    "\n",
    " * B_tiempo\n",
    " * TMTB_FixT\n",
    " * B_duracion_fix\n",
    " * B_VMP"
   ]
  },
  {
   "cell_type": "code",
   "execution_count": null,
   "id": "19469bd3",
   "metadata": {},
   "outputs": [],
   "source": [
    "nombre_variable = input(str((\"Ingresa el nombre de la variable a graficar: \")))"
   ]
  },
  {
   "cell_type": "code",
   "execution_count": null,
   "id": "91a81684",
   "metadata": {},
   "outputs": [],
   "source": [
    "et = nombre_variable\n",
    "grupos = [G6[nombre_variable], G7[nombre_variable], G8[nombre_variable], G9[nombre_variable], G10[nombre_variable], G11[nombre_variable]]\n",
    "\n",
    "if nombre_variable == \"A_tiempo\":\n",
    "    variable_cols = data_res.filter(regex=\"^A .*Tiempo\").columns\n",
    "    variable_cols = variable_cols[~variable_cols.str.contains(\"prom fijaciones\")]\n",
    "elif nombre_variable == \"A_VMP\":\n",
    "    variable_cols = [col for col in data_res.columns if col.startswith('A_VMP') and not col.endswith('sum') and col != ('A_VMP')]\n",
    "elif nombre_variable == \"TMTA_FixT\":\n",
    "    variable_cols = data_res.filter(regex=\"^A .*Fijaciones\").columns\n",
    "elif nombre_variable == \"A_duracion_fix\":\n",
    "    variable_cols = data_res.filter(regex=\"^A .*prom.*fijaciones.*\").columns\n",
    "elif nombre_variable == \"B_tiempo\":\n",
    "    variable_cols = data_res.filter(regex=\"^\\d+ Tiempo\").columns\n",
    "    variable_cols = variable_cols[~variable_cols.str.contains(\"prom fijaciones\")]\n",
    "elif nombre_variable == \"B_VMP\":\n",
    "    variable_cols = [col for col in data_res.columns if col.startswith('B_VMP') and not col.endswith('sum') and col != ('B_VMP')]\n",
    "elif nombre_variable == \"TMTB_FixT\":\n",
    "    variable_cols = data_res.filter(regex=\"^\\d+ Fijaciones\").columns\n",
    "elif nombre_variable == \"B_duracion_fix\":\n",
    "    variable_cols = data_res.filter(regex=\"^\\d+ Tiempo prom fijaciones\").columns\n",
    "\n",
    "# Calcula el valor medio de cada item para cada grupo de edad y almacena los resultados en una matriz\n",
    "item_means = []\n",
    "for group in [G6, G7, G8, G9, G10, G11]:\n",
    "    group_means = [np.mean(group[col]) for col in variable_cols]\n",
    "    item_means.append(group_means)\n",
    "item_means = np.array(item_means)\n",
    "\n",
    "# Grafica el valor medio de cada item para cada grupo de edad como puntos conectados por líneas\n",
    "colors = ['red', 'blue', 'orange', 'purple', 'gray', 'black']\n",
    "labels = ['6 años', '7 años', '8 años', '9 años', '10 años', '11 años']\n",
    "fig, ax = plt.subplots(figsize=(12, 5))\n",
    "for i in range(len(item_means)):\n",
    "    plt.plot(range(1, len(variable_cols) + 1), item_means[i], '-o', color=colors[i], label=labels[i])\n",
    "\n",
    "# Añade etiquetas al gráfico\n",
    "plt.xlabel(\"Trail\", fontsize=14)\n",
    "plt.ylabel(et, fontsize=14)\n",
    "\n",
    "# Configuro el grid\n",
    "plt.grid(color='b', linestyle='dotted', linewidth=0.5)\n",
    "\n",
    "# Agrega leyenda\n",
    "plt.legend()\n",
    "\n",
    "#plt.savefig(f\"{et} de cada trail por edad.pdf\", format='pdf')\n",
    "\n",
    "plt.show()"
   ]
  },
  {
   "cell_type": "code",
   "execution_count": null,
   "id": "595fcd8f",
   "metadata": {},
   "outputs": [],
   "source": []
  }
 ],
 "metadata": {
  "kernelspec": {
   "display_name": "Python 3 (ipykernel)",
   "language": "python",
   "name": "python3"
  },
  "language_info": {
   "codemirror_mode": {
    "name": "ipython",
    "version": 3
   },
   "file_extension": ".py",
   "mimetype": "text/x-python",
   "name": "python",
   "nbconvert_exporter": "python",
   "pygments_lexer": "ipython3",
   "version": "3.10.4"
  }
 },
 "nbformat": 4,
 "nbformat_minor": 5
}
